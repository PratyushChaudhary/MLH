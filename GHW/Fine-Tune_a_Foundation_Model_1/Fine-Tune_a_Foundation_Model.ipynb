{
 "cells": [
  {
   "cell_type": "code",
   "execution_count": 1,
   "id": "5e403dc7-a501-4aec-8435-6597724a2696",
   "metadata": {},
   "outputs": [
    {
     "name": "stdout",
     "output_type": "stream",
     "text": [
      "Requirement already satisfied: praw in /opt/anaconda3/lib/python3.11/site-packages (7.8.1)\n",
      "Requirement already satisfied: pytesseract in /opt/anaconda3/lib/python3.11/site-packages (0.3.13)\n",
      "Requirement already satisfied: pillow<11.0 in /opt/anaconda3/lib/python3.11/site-packages (10.4.0)\n",
      "Requirement already satisfied: prawcore<3,>=2.4 in /opt/anaconda3/lib/python3.11/site-packages (from praw) (2.4.0)\n",
      "Requirement already satisfied: update_checker>=0.18 in /opt/anaconda3/lib/python3.11/site-packages (from praw) (0.18.0)\n",
      "Requirement already satisfied: websocket-client>=0.54.0 in /opt/anaconda3/lib/python3.11/site-packages (from praw) (1.8.0)\n",
      "Requirement already satisfied: packaging>=21.3 in /opt/anaconda3/lib/python3.11/site-packages (from pytesseract) (24.2)\n",
      "Requirement already satisfied: requests<3.0,>=2.6.0 in /opt/anaconda3/lib/python3.11/site-packages (from prawcore<3,>=2.4->praw) (2.32.4)\n",
      "Requirement already satisfied: charset_normalizer<4,>=2 in /opt/anaconda3/lib/python3.11/site-packages (from requests<3.0,>=2.6.0->prawcore<3,>=2.4->praw) (3.4.2)\n",
      "Requirement already satisfied: idna<4,>=2.5 in /opt/anaconda3/lib/python3.11/site-packages (from requests<3.0,>=2.6.0->prawcore<3,>=2.4->praw) (3.10)\n",
      "Requirement already satisfied: urllib3<3,>=1.21.1 in /opt/anaconda3/lib/python3.11/site-packages (from requests<3.0,>=2.6.0->prawcore<3,>=2.4->praw) (2.4.0)\n",
      "Requirement already satisfied: certifi>=2017.4.17 in /opt/anaconda3/lib/python3.11/site-packages (from requests<3.0,>=2.6.0->prawcore<3,>=2.4->praw) (2025.6.15)\n"
     ]
    }
   ],
   "source": [
    "!pip install --upgrade praw pytesseract \"pillow<11.0\""
   ]
  },
  {
   "cell_type": "code",
   "execution_count": 5,
   "id": "70eccfc8-728f-41a4-9bcd-9ecff105e8ca",
   "metadata": {},
   "outputs": [
    {
     "name": "stdout",
     "output_type": "stream",
     "text": [
      "Collecting numpy==1.24.4\n",
      "  Downloading numpy-1.24.4-cp311-cp311-macosx_11_0_arm64.whl.metadata (5.6 kB)\n",
      "Downloading numpy-1.24.4-cp311-cp311-macosx_11_0_arm64.whl (13.8 MB)\n",
      "\u001b[2K   \u001b[38;2;114;156;31m━━━━━━━━━━━━━━━━━━━━━━━━━━━━━━━━━━━━━━━━\u001b[0m \u001b[32m13.8/13.8 MB\u001b[0m \u001b[31m12.4 MB/s\u001b[0m eta \u001b[36m0:00:00\u001b[0m[36m0:00:01\u001b[0m[36m0:00:01\u001b[0m01\u001b[0m\n",
      "\u001b[?25hInstalling collected packages: numpy\n",
      "  Attempting uninstall: numpy\n",
      "    Found existing installation: numpy 2.2.6\n",
      "    Uninstalling numpy-2.2.6:\n",
      "      Successfully uninstalled numpy-2.2.6\n",
      "\u001b[31mERROR: pip's dependency resolver does not currently take into account all the packages that are installed. This behaviour is the source of the following dependency conflicts.\n",
      "tensorflow 2.19.0 requires numpy<2.2.0,>=1.26.0, but you have numpy 1.24.4 which is incompatible.\n",
      "moviepy 2.1.2 requires numpy>=1.25.0, but you have numpy 1.24.4 which is incompatible.\n",
      "streamlit 1.32.0 requires packaging<24,>=16.8, but you have packaging 24.2 which is incompatible.\n",
      "streamlit 1.32.0 requires protobuf<5,>=3.20, but you have protobuf 5.29.3 which is incompatible.\n",
      "streamlit 1.32.0 requires tenacity<9,>=8.1.0, but you have tenacity 9.1.2 which is incompatible.\n",
      "torchvision 0.19.0 requires torch==2.4.0, but you have torch 2.7.1 which is incompatible.\u001b[0m\u001b[31m\n",
      "\u001b[0mSuccessfully installed numpy-1.24.4\n",
      "Note: you may need to restart the kernel to use updated packages.\n"
     ]
    }
   ],
   "source": [
    "pip install numpy==1.24.4"
   ]
  },
  {
   "cell_type": "code",
   "execution_count": 7,
   "id": "ab1b58ca-5738-4d50-8732-1e7bceea5665",
   "metadata": {},
   "outputs": [
    {
     "name": "stdout",
     "output_type": "stream",
     "text": [
      "JAI MAHARASTRA 🗣️🔥🚩 https://i.redd.it/gdevawvw70bf1.png 2020\n",
      "Aap Kitaab se zyada jaante hain https://i.redd.it/kru7wdy6q1bf1.jpeg 585\n",
      "Ab kya hi kar sakte hain!! https://v.redd.it/nq1eyjw1b3bf1 190\n",
      "Sanskaar https://v.redd.it/k7goyp5au1bf1 427\n",
      "Chal Campaign ke liye kuch tagda karte hein https://i.redd.it/bhz6cotp93bf1.png 154\n",
      "Remember boys; A problem shared is a problem casted. https://v.redd.it/os07kd0yr1bf1 314\n",
      "Aai ja gavat https://v.redd.it/cuc7fqc796bf1 18\n",
      "AWW hell naww new language rebel state https://i.redd.it/fmh9a96hj0bf1.jpeg 513\n",
      "Not Oc https://v.redd.it/bsaltcj022bf1 189\n",
      "samaaj ki baato mein fas gaya https://v.redd.it/lm6kr4vlr0bf1 374\n"
     ]
    }
   ],
   "source": [
    "import praw\n",
    "\n",
    "reddit = praw.Reddit(\n",
    "    client_id = \"YOUR_CLIENT_ID\",\n",
    "    client_secret = \"YOUR_CLIENT_SECRET\",\n",
    "    user_agent = \"\"\n",
    ")\n",
    "\n",
    "subreddit = reddit.subreddit(\"IndianDankMemes\")\n",
    "for post in subreddit.hot(limit = 10):\n",
    "    print(post.title, post.url, post.score)"
   ]
  },
  {
   "cell_type": "code",
   "execution_count": 11,
   "id": "99c0c7d3-f9ad-4638-b818-0e6ec250a774",
   "metadata": {},
   "outputs": [
    {
     "name": "stdout",
     "output_type": "stream",
     "text": [
      "Saved 100 meme posts to indian_dank_memes.csv\n"
     ]
    }
   ],
   "source": [
    "import csv\n",
    "\n",
    "with open(\"indian_dank_memes.csv\", mode=\"w\", newline=\"\", encoding=\"utf-8\") as file:\n",
    "    writer = csv.writer(file)\n",
    "    writer.writerow([\"title\", \"url\", \"score\", \"subreddit\"])\n",
    "\n",
    "    count = 0\n",
    "    for post in reddit.subreddit(\"IndianDankMemes\").hot(limit=500):\n",
    "        url = post.url\n",
    "        if url.endswith((\".jpg\", \".png\")) or \"i.redd.it\" in url:\n",
    "            writer.writerow([post.title, url, post.score, post.subreddit.display_name])\n",
    "            count += 1\n",
    "            if count >= 100:\n",
    "                break\n",
    "\n",
    "print(f\"Saved {count} meme posts to indian_dank_memes.csv\")"
   ]
  },
  {
   "cell_type": "code",
   "execution_count": 25,
   "id": "5c1d5e32-4c8b-4c8c-8573-2d12b34c74fd",
   "metadata": {},
   "outputs": [
    {
     "name": "stdout",
     "output_type": "stream",
     "text": [
      "https://i.redd.it/gdevawvw70bf1.png\n",
      "https://i.redd.it/kru7wdy6q1bf1.jpeg\n",
      "https://i.redd.it/bhz6cotp93bf1.png\n",
      "https://i.redd.it/fmh9a96hj0bf1.jpeg\n",
      "https://i.redd.it/arr71hfzo0bf1.jpeg\n",
      "https://i.redd.it/j1ltyh8mr4bf1.jpeg\n",
      "https://i.redd.it/nfdda7pwz0bf1.jpeg\n",
      "https://i.redd.it/u4wqhkrzevaf1.jpeg\n",
      "https://i.redd.it/aug4n8ppjqaf1.png\n",
      "https://i.redd.it/g665h5jrsoaf1.png\n",
      "https://i.redd.it/wj6c7ubsapaf1.png\n",
      "https://i.redd.it/zfji7kdysnaf1.jpeg\n",
      "https://i.redd.it/3hffc6ej6qaf1.jpeg\n",
      "https://i.redd.it/ur1xvvy2ooaf1.png\n",
      "https://i.redd.it/4w7yshov7naf1.png\n",
      "https://i.redd.it/c23i4itcvnaf1.jpeg\n",
      "https://i.redd.it/kawd6znfmmaf1.jpeg\n",
      "https://i.redd.it/9luwjrex9aaf1.jpeg\n",
      "https://i.redd.it/hxph0rs4l9af1.jpeg\n",
      "https://i.redd.it/6lyxuezzm7af1.jpeg\n",
      "https://i.redd.it/8m1p532173af1.jpeg\n",
      "https://i.redd.it/w204t924o1af1.jpeg\n",
      "https://i.redd.it/jvfpfem6o3af1.jpeg\n",
      "https://i.redd.it/n745otv4fz9f1.jpeg\n",
      "https://i.redd.it/42td53ny3x9f1.jpeg\n",
      "https://i.redd.it/uarko56r8t9f1.jpeg\n",
      "https://i.redd.it/0x9kzejcgu9f1.png\n",
      "https://i.redd.it/9otut7t1fn9f1.jpeg\n",
      "https://i.redd.it/ldenxgc8wo9f1.jpeg\n",
      "https://i.redd.it/zovzfbgizn9f1.png\n",
      "https://i.redd.it/4ikpmef9gl9f1.jpeg\n",
      "https://i.redd.it/9d56zbwcki9f1.png\n",
      "https://i.redd.it/f3lpa76rti9f1.jpeg\n",
      "https://i.redd.it/pxabpuxh8e9f1.jpeg\n",
      "https://i.redd.it/6anxggbz3i9f1.jpeg\n",
      "https://i.redd.it/3by82e492h9f1.jpeg\n",
      "https://i.redd.it/kkof2bf12a9f1.jpeg\n",
      "https://i.redd.it/zrbjfxuakb9f1.jpeg\n",
      "https://i.redd.it/hjxhsj1rxa9f1.png\n",
      "https://i.redd.it/399guzcq8b9f1.jpeg\n",
      "https://i.redd.it/jk2r1dofx99f1.jpeg\n",
      "https://i.redd.it/gnums3q2x29f1.png\n",
      "https://i.redd.it/bj6o1x1ja59f1.png\n",
      "https://i.redd.it/e2nk7auj229f1.png\n",
      "https://i.redd.it/0p18ukmuw09f1.png\n",
      "https://i.redd.it/uwetnslkdy8f1.jpeg\n",
      "https://i.redd.it/w8ksm9f7zz8f1.png\n",
      "https://i.redd.it/el0sgpumlw8f1.jpeg\n",
      "https://i.redd.it/iqnzr4reet8f1.jpeg\n",
      "https://i.redd.it/sj3javhruw8f1.png\n",
      "https://i.redd.it/xewxlnrjau8f1.jpeg\n",
      "https://i.redd.it/4t1j07u8st8f1.jpeg\n",
      "https://i.redd.it/pmva8vbket8f1.jpeg\n",
      "https://i.redd.it/lm362lc0lp8f1.jpeg\n",
      "https://i.redd.it/4f4fg9dgxp8f1.jpeg\n",
      "https://i.redd.it/ac042kl52t8f1.jpeg\n",
      "https://i.redd.it/cv4n6l6mbn8f1.jpeg\n",
      "https://i.redd.it/019g2suwmp8f1.png\n",
      "https://i.redd.it/6dvg84o8yk8f1.png\n",
      "https://i.redd.it/wbd3o0we6o8f1.jpeg\n",
      "https://i.redd.it/ywj03ijisf8f1.png\n",
      "https://i.redd.it/7f97dhx3hg8f1.jpeg\n",
      "https://i.redd.it/dk3idrua2g8f1.png\n",
      "https://i.redd.it/anvmxvoh9h8f1.png\n",
      "https://i.redd.it/wyo9xcdvge8f1.jpeg\n",
      "https://i.redd.it/pnzckyubw68f1.jpeg\n",
      "https://i.redd.it/wsbheha6a88f1.jpeg\n",
      "https://i.redd.it/2hmjd3gs028f1.jpeg\n",
      "https://i.redd.it/c2un1ar2n08f1.jpeg\n",
      "https://i.redd.it/a8xoq0ilu08f1.jpeg\n",
      "https://i.redd.it/65653uawa38f1.jpeg\n",
      "https://i.redd.it/5r9yt6mxqt7f1.jpeg\n",
      "https://i.redd.it/gvqxetcfqw7f1.jpeg\n",
      "https://i.redd.it/v2cd8dh4yu7f1.jpeg\n",
      "https://i.redd.it/a6iw8jednn7f1.jpeg\n",
      "https://i.redd.it/wvvu4mmjjn7f1.png\n",
      "https://i.redd.it/xtictbwpnm7f1.jpeg\n",
      "https://i.redd.it/3cqpayyi6n7f1.jpeg\n",
      "https://i.redd.it/nkmmaexdhm7f1.jpeg\n",
      "https://i.redd.it/ef4y3vliwh7f1.png\n",
      "https://i.redd.it/zthwlk7nki7f1.jpeg\n",
      "https://i.redd.it/lqubppzcjg7f1.jpeg\n",
      "https://i.redd.it/jngh4pszng7f1.jpeg\n",
      "https://i.redd.it/4zo8kde9fi7f1.jpeg\n",
      "https://i.redd.it/w3fgup1krh7f1.jpeg\n",
      "https://i.redd.it/k01u2e5frb7f1.jpeg\n",
      "https://i.redd.it/8cxntudmga7f1.jpeg\n",
      "https://i.redd.it/nyrc9w8kfa7f1.jpeg\n",
      "https://i.redd.it/imxoni1ub97f1.png\n",
      "https://i.redd.it/kwqpgy4zbb7f1.png\n",
      "https://i.redd.it/cnwmu7z8877f1.jpeg\n",
      "https://i.redd.it/24qmnncim77f1.jpeg\n",
      "https://i.redd.it/bomv9r4kn87f1.jpeg\n",
      "https://i.redd.it/f2no9bh5637f1.jpeg\n",
      "https://i.redd.it/6sccpug3m37f1.png\n",
      "https://i.redd.it/m3xtm3o5147f1.jpeg\n",
      "https://i.redd.it/4c223wxx837f1.jpeg\n",
      "https://i.redd.it/irlcolxxi07f1.jpeg\n",
      "https://i.redd.it/dtkwuuyq717f1.png\n",
      "https://i.redd.it/84vbxv79vw6f1.png\n"
     ]
    }
   ],
   "source": [
    "from PIL import Image\n",
    "import pytesseract\n",
    "import requests\n",
    "\n",
    "count = 0\n",
    "with open(\"indian_dank_memes.csv\", mode=\"r\", newline=\"\", encoding=\"utf-8\") as file:\n",
    "    reader = csv.DictReader(file)\n",
    "    for rows in reader:\n",
    "        print(rows[\"url\"])\n",
    "        response = requests.get(rows[\"url\"])\n",
    "        with open(f\"{count}.png\", \"wb\") as f:\n",
    "            f.write(response.content)\n",
    "        count += 1"
   ]
  },
  {
   "cell_type": "code",
   "execution_count": 39,
   "id": "831a6c59-06f8-45c3-95e8-dd7965e452db",
   "metadata": {},
   "outputs": [],
   "source": [
    "with open(\"indian_dank_memes.csv\", newline=\"\", encoding=\"utf-8\") as infile:\n",
    "    reader = csv.DictReader(infile)\n",
    "    rows = list(reader)\n",
    "\n",
    "fieldnames = reader.fieldnames + [\"image_ocr\"]\n",
    "\n",
    "with open(\"indian_dank_memes_ocr_new.csv\", \"w\", newline=\"\", encoding=\"utf-8\") as outfile:\n",
    "    writer = csv.DictWriter(outfile, fieldnames=fieldnames)\n",
    "    writer.writeheader()\n",
    "    for i, row in enumerate(rows):\n",
    "        img = Image.open(f\"Images/{i}.png\")\n",
    "        row[\"image_ocr\"] = pytesseract.image_to_string(img)\n",
    "        writer.writerow(row)"
   ]
  },
  {
   "cell_type": "code",
   "execution_count": 51,
   "id": "f4f5468e-8c86-4e49-babd-d475c5e02f67",
   "metadata": {},
   "outputs": [],
   "source": [
    "import csv\n",
    "import json\n",
    "\n",
    "with open(\"indian_dank_memes_cleaned.csv\", newline=\"\", encoding=\"utf-8\") as csvfile, \\\n",
    "     open(\"output_for_finetune.jsonl\", \"w\", encoding=\"utf-8\") as jsonlfile:\n",
    "\n",
    "    reader = csv.DictReader(csvfile)\n",
    "    for row in reader:\n",
    "        title = row[\"title\"].strip()\n",
    "        image_ocr = row[\"image_ocr\"].strip()\n",
    "\n",
    "        # Skip if no OCR maybe\n",
    "        if not image_ocr:\n",
    "            continue\n",
    "\n",
    "        obj = {\n",
    "            \"messages\": [\n",
    "                {\"role\": \"user\", \"content\": title},\n",
    "                {\"role\": \"assistant\", \"content\": image_ocr}\n",
    "            ]\n",
    "        }\n",
    "        jsonlfile.write(json.dumps(obj, ensure_ascii=False) + \"\\n\")"
   ]
  },
  {
   "cell_type": "code",
   "execution_count": 3,
   "id": "9a8e11a0-cf1b-48ab-8181-97f1d7f567b3",
   "metadata": {},
   "outputs": [],
   "source": [
    "import json\n",
    "\n",
    "skip_keywords = [\n",
    "    \"hamas\", \"palestinian\", \"pakistan\", \"iran\", \"khal!stan\", \"caste\",\n",
    "    \"rape\", \"cock\", \"fuck\", \"bkl\", \"mc\", \"muslim\", \"hindu\",\n",
    "    \"linkedin\", \"arranged marriage\", \"oppress\", \"islamic\"\n",
    "]\n",
    "\n",
    "with open(\"output_for_finetune.jsonl\", encoding=\"utf-8\") as infile, \\\n",
    "     open(\"sanitized_output.jsonl\", \"w\", encoding=\"utf-8\") as outfile:\n",
    "    \n",
    "    for line in infile:\n",
    "        try:\n",
    "            obj = json.loads(line)\n",
    "            text_blob = (obj[\"messages\"][0][\"content\"] + \" \" + obj[\"messages\"][1][\"content\"]).lower()\n",
    "            if any(word in text_blob for word in skip_keywords):\n",
    "                continue\n",
    "            outfile.write(json.dumps(obj, ensure_ascii=False) + \"\\n\")\n",
    "        except Exception as e:\n",
    "            print(\"Skipping corrupt line:\", e)\n"
   ]
  },
  {
   "cell_type": "code",
   "execution_count": null,
   "id": "a88803b0",
   "metadata": {},
   "outputs": [],
   "source": []
  }
 ],
 "metadata": {
  "kernelspec": {
   "display_name": "base",
   "language": "python",
   "name": "python3"
  },
  "language_info": {
   "codemirror_mode": {
    "name": "ipython",
    "version": 3
   },
   "file_extension": ".py",
   "mimetype": "text/x-python",
   "name": "python",
   "nbconvert_exporter": "python",
   "pygments_lexer": "ipython3",
   "version": "3.11.8"
  }
 },
 "nbformat": 4,
 "nbformat_minor": 5
}
